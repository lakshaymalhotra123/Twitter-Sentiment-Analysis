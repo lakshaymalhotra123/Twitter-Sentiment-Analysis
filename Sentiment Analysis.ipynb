{
 "cells": [
  {
   "cell_type": "code",
   "execution_count": 24,
   "metadata": {},
   "outputs": [],
   "source": [
    "from tweepy.streaming import StreamListener\n",
    "from tweepy import OAuthHandler\n",
    "from tweepy import Stream\n",
    "from tweepy import API\n",
    "from tweepy import Cursor\n",
    "import pandas as pd\n",
    "import numpy as mp\n",
    "from matplotlib import pyplot as plt\n",
    "from textblob import TextBlob\n",
    "import re\n",
    "import json"
   ]
  },
  {
   "cell_type": "code",
   "execution_count": 2,
   "metadata": {},
   "outputs": [],
   "source": [
    "Access_Token = ''\n",
    "Access_Token_Secret  = ' '\n",
    "Consumer_Key = ''\n",
    "Consumer_Secret = ''"
   ]
  },
  {
   "cell_type": "code",
   "execution_count": 3,
   "metadata": {},
   "outputs": [],
   "source": [
    "class Twitter_Client():\n",
    "    \"\"\"\n",
    "    Twitter Client\n",
    "    \"\"\"\n",
    "    \n",
    "    def __init__(self, twitter_user=None):\n",
    "        self.auth = Twitter_Authenticator().Twitter_Authentication_app()\n",
    "        self.twitter_client = API(self.auth)\n",
    "        self.twitter_user = twitter_user\n",
    "\n",
    "    def get_twitter_client_api(self):\n",
    "        return self.twitter_client\n",
    "\n",
    "    def get_user_timeline_tweets(self, num_tweets):\n",
    "        tweets = []\n",
    "        for tweet in Cursor(self.twitter_client.user_timeline, id = self.twitter_user).items(num_tweets):\n",
    "            tweets.append(tweet)\n",
    "        return(tweets)"
   ]
  },
  {
   "cell_type": "code",
   "execution_count": 4,
   "metadata": {},
   "outputs": [],
   "source": [
    "class Twitter_Authenticator():\n",
    "    \"\"\"\n",
    "    Twitter Authentication\n",
    "    \"\"\"\n",
    "\n",
    "    def __init__(self):\n",
    "        pass\n",
    "\n",
    "    def Twitter_Authentication_app(self):\n",
    "        auth  = OAuthHandler(Consumer_Key, Consumer_Secret)\n",
    "        auth.set_access_token(Access_Token, Access_Token_Secret)\n",
    "        return(auth)"
   ]
  },
  {
   "cell_type": "code",
   "execution_count": null,
   "metadata": {},
   "outputs": [],
   "source": [
    "class Twitterstreamer():\n",
    "\n",
    "\n",
    "    def __init__(self):\n",
    "        self.auth = Twitter_Authenticator()\n",
    "\n",
    "    def stream_tweets(self, fetched_tweet_filename, hash_tag_list):\n",
    "        #Handles Twitter authentication and the connection to the Twitter Streaming API\n",
    "        listener  = TwitterListener()\n",
    "        auth = self.auth.Twitter_Authentication_app()\n",
    "\n",
    "        stream = Stream(authlistener)\n",
    "        stream.filter(track=hash_tag_list)"
   ]
  },
  {
   "cell_type": "code",
   "execution_count": null,
   "metadata": {},
   "outputs": [],
   "source": [
    "class TwitterListener(StreamListener):\n",
    "    \"\"\"\n",
    "    Prints data\n",
    "    \"\"\"\n",
    "\n",
    "    def __init__(self):\n",
    "        self.fetched_tweet_filename = fetched_tweet_filename\n",
    "\n",
    "    def on_data(self, data):\n",
    "        try:\n",
    "            with open(self.fetched_tweet_filename, 'a') as f:\n",
    "                f.write(data)\n",
    "            return True\n",
    "        except BaseException as e:\n",
    "            print('Error on data: %s' % str(e))\n",
    "            return True\n",
    "\n",
    "    def on_error(selfstatus):\n",
    "        if status == 420:\n",
    "            #Returning False on_data method in case rate limit occurs\n",
    "            return False\n",
    "        print(status)\n"
   ]
  },
  {
   "cell_type": "code",
   "execution_count": null,
   "metadata": {},
   "outputs": [],
   "source": [
    "class Tweet_Analyzer:\n",
    "    \"\"\"\n",
    "    Analyzing and Categorizing content from tweets\n",
    "    \"\"\"\n",
    "    \n",
    "    def clean_tweet(self, tweet):\n",
    "        return ' '.join(re.sub(\"(@[A-Za-z0-9]+)|([^0-9A-Za-z \\t])|(\\w+:\\/\\/\\S+)\",\" \" ,tweet).split())\n",
    "\n",
    "    def analyze_sentiment(self, tweet):\n",
    "        analysis = TextBlob(self.clean_tweet(tweet))\n",
    "\n",
    "        if analysis.sentiment.polarity > 0:\n",
    "            return 1\n",
    "        elif analysis.sentiment.polarity == 0:\n",
    "            return 0\n",
    "        else:\n",
    "            return -1\n",
    "\n",
    "    def tweets_to_dataframe(self, tweets):\n",
    "        df = pd.DataFrame(data=[tweet.text for tweet in tweets], columns = ['Tweets'])\n",
    "        df['ID'] = [tweet.id for tweet in tweets]\n",
    "        df['len'] = [len(tweet.text) for tweet in tweets]\n",
    "        df['date'] = [tweet.created_at for tweet in tweets]\n",
    "        df['source'] = [tweet.source for tweet in tweets]\n",
    "        df['likes'] = [tweet.favorite_count for tweet in tweets]\n",
    "        df['retweets'] = [tweet.retweet_count for tweet in tweets]\n",
    "        return df"
   ]
  },
  {
   "cell_type": "code",
   "execution_count": null,
   "metadata": {},
   "outputs": [],
   "source": [
    "if __name__ ==  '__main__':\n",
    "    hash_tag_list = ['donald trump' 'trade' 'etf']\n",
    "    fetched_tweet_filename = \"tweets.json\"\n",
    "\n",
    "    tweet_analyzer = Tweet_Analyzer()\n",
    "    twitter_client = Twitter_Client()\n",
    "\n",
    "    api =   twitter_client.get_twitter_client_api()\n",
    "    tweets = api.user_timeline(screen_name = \"realDonaldTrump\", count = 200)\n",
    "    df = tweet_analyzer.tweets_to_dataframe(tweets)\n",
    "    df['Sentiment'] = [tweet_analyzer.analyze_sentiment(tweet) for tweet in df['Tweets']]\n",
    "\n",
    "    twitter_streamer = Twitterstreamer()\n",
    "    twitter_streamer.stream_tweets(fetched_tweet_filename, hash_tag_list)\n",
    "    #print(dir(tweets))  gives a list of all information that can be extracted\n",
    "\n"
   ]
  },
  {
   "cell_type": "code",
   "execution_count": null,
   "metadata": {},
   "outputs": [],
   "source": [
    "#Plotting\n",
    "t_likes = pd.Series(data=df['likes'].values, index = df['date'])\n",
    "t_likes.plot(figsize= (164), color='b', label = 'Likes')\n",
    "rt_likes = pd.Series(data=df['retweets'].values, index = df['date'])\n",
    "rt_likes.plot(figsize= (164), color='r', label = 'Retweets')\n",
    "plt.xlabel('Tweet Created on')\n",
    "plt.ylabel('Tweet likes')\n",
    "plt.legend()\n",
    "plt.show()"
   ]
  },
  {
   "cell_type": "code",
   "execution_count": 87,
   "metadata": {},
   "outputs": [],
   "source": [
    "file = 'C:/Users/laksh/tweets.json'\n",
    "twitter_data = []\n",
    "with open(file) as f:\n",
    "    f  = f.readlines()\n",
    "for line in f:\n",
    "    twitter_data.append(line)\n",
    "twitter_data = list(filter(lambda a: a != '\\n', twitter_data))"
   ]
  },
  {
   "cell_type": "code",
   "execution_count": 103,
   "metadata": {},
   "outputs": [
    {
     "data": {
      "text/plain": [
       "'{\"limit\":{\"track\":29,\"timestamp_ms\":\"1561583347077\"}}\\n'"
      ]
     },
     "execution_count": 103,
     "metadata": {},
     "output_type": "execute_result"
    }
   ],
   "source": [
    "twitter_data[1000]"
   ]
  },
  {
   "cell_type": "code",
   "execution_count": 105,
   "metadata": {},
   "outputs": [],
   "source": [
    "loaded_json = []\n",
    "j=0\n",
    "for i in twitter_data:\n",
    "    try:\n",
    "        j=j+1\n",
    "        loaded_json.append(' '.join(re.sub(\"(@[A-Za-z0-9]+)|([^0-9A-Za-z \\t])|(\\w+:\\/\\/\\S+)\",\" \" ,json.loads(i)['text']).split()))\n",
    "    except:\n",
    "        pass"
   ]
  },
  {
   "cell_type": "code",
   "execution_count": 106,
   "metadata": {},
   "outputs": [
    {
     "data": {
      "text/plain": [
       "22147"
      ]
     },
     "execution_count": 106,
     "metadata": {},
     "output_type": "execute_result"
    }
   ],
   "source": [
    "len(loaded_json)"
   ]
  }
 ],
 "metadata": {
  "kernelspec": {
   "display_name": "Python 3",
   "language": "python",
   "name": "python3"
  },
  "language_info": {
   "codemirror_mode": {
    "name": "ipython",
    "version": 3
   },
   "file_extension": ".py",
   "mimetype": "text/x-python",
   "name": "python",
   "nbconvert_exporter": "python",
   "pygments_lexer": "ipython3",
   "version": "3.7.1"
  }
 },
 "nbformat": 4,
 "nbformat_minor": 2
}
